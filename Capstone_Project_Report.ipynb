{
    "nbformat_minor": 1, 
    "cells": [
        {
            "source": "# Capstone Project Report  \n  \n## Tool to find the right neighborhood in the other city (Toronto-NYC)", 
            "cell_type": "markdown", 
            "metadata": {
                "collapsed": true
            }
        }, 
        {
            "source": " ", 
            "cell_type": "markdown", 
            "metadata": {}
        }, 
        {
            "source": "1. _Introduction_  \n\nThe project will consist in creating a tool for compare neighborhoods from New York City and Toronto. The aiming of itself is to find a solution for companies and business located in one of these cities to find similar neighborhoods to establish a new franchise in the other country.  \n\nUsing the Foursquare API the venues around each neighborhood will be gathered together and through data analysis, a clustering will solve the problem. \n\nCompanies in these two cities will be able to find similar neighbourhoods to open a new office, so its employees (new or relocated) could enjoy similar activities or places around that new office. Employees need to feel great to continue performing their jobs in the best way possible.\n\n2. _Data_  \n\nFor New York City the data of the neighborhoods will be used and taken from the internet along with the latitudes and longitudes of each neighborhood. The main objective will be creating a dataframe with Borough, Neighborhood, Latitude and Longitude\n\nFor Toronto, the wikipedia page were postal codes and neighborhoods are related and then, the latitude and longitude of each of them will be gathered together and join in the same dataframe.\n\nAt the end, only one dataframe will remain, merging both of them.\n\nThe venues in each neighborhood will be obtained using Foursquare API for developers and joined to the previous dataframe obtained.\n\n3. _Methodology_\n\nTo obtain the initial dataframes for New York City and Toronto, we will used Pandas and BeautifulSoup4 to download the files and arranged them into a useful format. The folium package will be used to represent the maps of Toronto and New York along with all the neighborhoods represented over it. Folium will let us play with the map once it is created, it creates interactive maps. After creating the initial dataframes and join them together, a function will be defined to obtain all the venues from all the neighborhoods through Foursquare API for developers, creating a bigger dataframe with all the venues and locations of the neighborhoods. \n\nAfter the initial steps, the one hot encoding method will be used to create a dataframe, with the most common venues so after it it could be used with KMeans. After the one hot encoding is done, the Scipy package will let us use KMeans to group the neighborhoods with its similar ones. Then, the labels for the kmeans labels will be added to the final dataframe and the neighborhoods will be represented according to the cluster they belong to. \n\nTo conclude, the tool will be created as function that once called, a popup appears to ask the user to type in his/her neighborhood, the program will find it, will find the city that it belongs to and the cluster label associated. Then it will create a new map of the OTHER city, displaying only the neighborhoods in the same cluster as the one requested by the user.\n\n4. _Results_\n\nThe result is a useful tool ready to use for companies in both the capitals of the US and Canada. Visual tests will be seen in the project and the results obtained for the three tests are:\n\n__Queen's Park (Toronto)__: Lincoln Square, Sutton Place, Bushwick, etc... (New York City)  \n__Noho (New York City)__: Northwest, Willowdale South, etc.. (Toronto)  \n__Willowbrook (New York City)__: CFB Toronto, Downsview East, Parkwoods (Toronto)\n\n5. _Discussion_\n\nThe results are accurate, but some enhancement could be done to this project. First of all, limiting the radius of the Foursquare request so we could find a major similarity. Increasing the number of clusters, or even creating a function to keep increasing and decreasing the number of clusters to find the most similar neighborhood and find what it could be the exact solution to this problem. Also, adding other variables as rent prices, other similar companies, residences, and commuting to work could be used to refine this search and find the right path for companies and its employees.\n\n6. _Conclusion_\n\nThis tool, with much more engineering, analysis and coding could be enhanced to compare neighborhoods along each different city in the United States of America, but the main coding is already done in this project and could be used as the first steps for a bigger project. Even though, it is helpful right now for people who wants to find the comparison between New York City and Toronto. \n\nSeveral trials have been tried to compare and verified the results, comparing the less known neighborhoods and also those with less information available, and, although it is a simple project, it is pretty accurate on the results.\n", 
            "cell_type": "markdown", 
            "metadata": {}
        }
    ], 
    "metadata": {
        "kernelspec": {
            "display_name": "Python 3.5", 
            "name": "python3", 
            "language": "python"
        }, 
        "language_info": {
            "mimetype": "text/x-python", 
            "nbconvert_exporter": "python", 
            "version": "3.5.5", 
            "name": "python", 
            "file_extension": ".py", 
            "pygments_lexer": "ipython3", 
            "codemirror_mode": {
                "version": 3, 
                "name": "ipython"
            }
        }
    }, 
    "nbformat": 4
}